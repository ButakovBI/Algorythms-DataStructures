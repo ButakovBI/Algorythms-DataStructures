{
 "cells": [
  {
   "cell_type": "code",
   "execution_count": 1,
   "id": "610f0894-7323-4aba-9074-e433373e6baa",
   "metadata": {},
   "outputs": [
    {
     "name": "stdout",
     "output_type": "stream",
     "text": [
      "Defaulting to user installation because normal site-packages is not writeable\n",
      "Requirement already satisfied: numpy in /home/butakovbi/.local/lib/python3.10/site-packages (2.0.0)\n",
      "Note: you may need to restart the kernel to use updated packages.\n"
     ]
    }
   ],
   "source": [
    "pip install numpy\n"
   ]
  },
  {
   "cell_type": "code",
   "execution_count": 2,
   "id": "c5d4be28-7260-4d6d-b350-f3b551f68e5b",
   "metadata": {},
   "outputs": [],
   "source": [
    "import numpy as np\n"
   ]
  },
  {
   "cell_type": "code",
   "execution_count": 3,
   "id": "cb088719-a008-49c9-a5ba-dda9cceaffc8",
   "metadata": {},
   "outputs": [],
   "source": [
    "arr = np.array([1,2,3,4,5])\n"
   ]
  },
  {
   "cell_type": "code",
   "execution_count": 6,
   "id": "7f530852-f29e-4e57-be35-778c9a09d346",
   "metadata": {},
   "outputs": [
    {
     "data": {
      "text/plain": [
       "array([1., 0., 0., 0., 2., 0., 0., 0., 3., 0., 0., 0., 4., 0., 0., 0., 5.])"
      ]
     },
     "execution_count": 6,
     "metadata": {},
     "output_type": "execute_result"
    }
   ],
   "source": [
    "new_arr = np.zeros(len(arr) * 4 - 3)\n",
    "new_arr[::4] = arr\n",
    "new_arr"
   ]
  },
  {
   "cell_type": "code",
   "execution_count": 8,
   "id": "fd041690-6b03-47fa-bb9e-0363273f896a",
   "metadata": {},
   "outputs": [
    {
     "data": {
      "text/plain": [
       "array([[3, 4],\n",
       "       [1, 2],\n",
       "       [5, 6]])"
      ]
     },
     "execution_count": 8,
     "metadata": {},
     "output_type": "execute_result"
    }
   ],
   "source": [
    "matrix = np.array([[1, 2], [3, 4], [5, 6]])\n",
    "matrix[[0, 1]] = matrix[[1, 0]]\n",
    "matrix"
   ]
  },
  {
   "cell_type": "code",
   "execution_count": 24,
   "id": "744dd1b0-e44b-4dc7-877b-a90c9e9439b0",
   "metadata": {},
   "outputs": [
    {
     "name": "stdout",
     "output_type": "stream",
     "text": [
      "3\n"
     ]
    }
   ],
   "source": [
    "arr = np.array([1, 5, 2, -3, -5, 6, 8, 3, 3, 5, 4, 1, -5, 0, 2, 3])\n",
    "values, counts = np.unique(arr, return_counts=True)\n",
    "print(values[counts.argmax()])"
   ]
  },
  {
   "cell_type": "code",
   "execution_count": 27,
   "id": "faa4c66a-d2f3-44d1-8171-f0c292d16daf",
   "metadata": {},
   "outputs": [
    {
     "name": "stdout",
     "output_type": "stream",
     "text": [
      "[[16. 16. 16. 16.]\n",
      " [16. 16. 16. 16.]\n",
      " [16. 16. 16. 16.]\n",
      " [16. 16. 16. 16.]]\n"
     ]
    }
   ],
   "source": [
    "array = np.ones((16, 16))\n",
    "summed_blocks = array.reshape(4, 4, 4, 4).sum(axis=(1, 3))\n",
    "print(summed_blocks)"
   ]
  },
  {
   "cell_type": "code",
   "execution_count": 43,
   "id": "41833d4e-2156-4d53-9409-803711e3e4fd",
   "metadata": {},
   "outputs": [
    {
     "data": {
      "text/plain": [
       "array([ 1,  2,  3,  6, 54, 55])"
      ]
     },
     "execution_count": 43,
     "metadata": {},
     "output_type": "execute_result"
    }
   ],
   "source": [
    "matrix = np.array([[1, 55], [3, 2], [54, 6]])\n",
    "matrix = np.array(matrix.flatten())\n",
    "matrix.sort()\n",
    "matrix"
   ]
  },
  {
   "cell_type": "code",
   "execution_count": 47,
   "id": "0f0b26e6-a75f-4f63-93ec-e4143f2d9be4",
   "metadata": {},
   "outputs": [
    {
     "data": {
      "text/plain": [
       "array([ 2,  4,  6,  5, -4, -5])"
      ]
     },
     "execution_count": 47,
     "metadata": {},
     "output_type": "execute_result"
    }
   ],
   "source": [
    "A = np.array([1.5, 3.6, 5.7, 5.0, -3.4, -5])\n",
    "Z = np.where(A > 0, np.ceil(A), np.floor(A)).astype(int)\n",
    "Z"
   ]
  },
  {
   "cell_type": "code",
   "execution_count": 53,
   "id": "47a7eb7b-a86d-4876-9708-fc215d87f741",
   "metadata": {},
   "outputs": [
    {
     "data": {
      "text/plain": [
       "array([-5. , -3.4,  5. ])"
      ]
     },
     "execution_count": 53,
     "metadata": {},
     "output_type": "execute_result"
    }
   ],
   "source": [
    "A = np.array([1.5, 3.6, 5.7, 5.0, -3.4, -5])\n",
    "B = np.array([1, 5, 5.0, -3.4, -5])\n",
    "Z = np.intersect1d(A, B)\n",
    "Z"
   ]
  },
  {
   "cell_type": "code",
   "execution_count": 65,
   "id": "9059cbf1-fc92-430f-b190-1b631b71e516",
   "metadata": {},
   "outputs": [
    {
     "data": {
      "text/plain": [
       "np.int64(10)"
      ]
     },
     "execution_count": 65,
     "metadata": {},
     "output_type": "execute_result"
    }
   ],
   "source": [
    "B = np.array([1, 0, 5, 5.0, 0, 0, 0, -3.4, -5, 0, 5, 6, 7, 0])\n",
    "(np.where(B[:-1] == 0)[0] + 1).max()"
   ]
  },
  {
   "cell_type": "code",
   "execution_count": null,
   "id": "051f6a3d-9855-4f8f-85ab-9ce6b2ab35f7",
   "metadata": {},
   "outputs": [],
   "source": []
  }
 ],
 "metadata": {
  "kernelspec": {
   "display_name": "Python 3 (ipykernel)",
   "language": "python",
   "name": "python3"
  },
  "language_info": {
   "codemirror_mode": {
    "name": "ipython",
    "version": 3
   },
   "file_extension": ".py",
   "mimetype": "text/x-python",
   "name": "python",
   "nbconvert_exporter": "python",
   "pygments_lexer": "ipython3",
   "version": "3.10.12"
  }
 },
 "nbformat": 4,
 "nbformat_minor": 5
}
